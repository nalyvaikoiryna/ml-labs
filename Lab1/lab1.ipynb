{
 "cells": [
  {
   "cell_type": "code",
   "execution_count": 20,
   "id": "9a3c843c",
   "metadata": {},
   "outputs": [],
   "source": [
    "import pandas as pd\n",
    "import regex as re"
   ]
  },
  {
   "cell_type": "code",
   "execution_count": 29,
   "id": "2739aad7",
   "metadata": {},
   "outputs": [],
   "source": [
    "#1\n",
    "df = pd.read_csv(\"Top100-2007.csv\")"
   ]
  },
  {
   "cell_type": "code",
   "execution_count": 30,
   "id": "eecf2bd2",
   "metadata": {},
   "outputs": [
    {
     "name": "stdout",
     "output_type": "stream",
     "text": [
      "(100, 8)\n",
      "Кількість записів : 100\n",
      "Кількість полів : 8\n"
     ]
    }
   ],
   "source": [
    "#2\n",
    "print(df.shape)\n",
    "rows = df.shape[0]\n",
    "columns = df.shape[1]\n",
    "print(f\"Кількість записів : {rows}\")\n",
    "print(f\"Кількість полів : {columns}\")\n"
   ]
  },
  {
   "cell_type": "code",
   "execution_count": 31,
   "id": "b5747387",
   "metadata": {},
   "outputs": [
    {
     "name": "stdout",
     "output_type": "stream",
     "text": [
      "    Rank                  Name     Country   Pts Singles Record (Career)  \\\n",
      "20    65        Florent Serra      France    565                   58-72   \n",
      "21    21  Juan Carlos Ferrero       Spain   1230                 372-192   \n",
      "22    23      Dmitry Tursunov      Russia   1120                 126-104   \n",
      "23    29      Guillermo Canas   Argentina   1007                 243-174   \n",
      "24    22    Juan Ignacio Chela  Argentina   1125                 247-200   \n",
      "\n",
      "   Winning Percentage Career Earnings  \\\n",
      "20             44.62%        $1256408   \n",
      "21             65.96%       $11620750   \n",
      "22             54.78%        $2592364   \n",
      "23             58.27%        $5045583   \n",
      "24             55.26%        $4458443   \n",
      "\n",
      "                                    Link to Wikipedia  \n",
      "20        http://en.wikipedia.org/wiki/Florent_Serra   \n",
      "21  http://en.wikipedia.org/wiki/Juan_Carlos_Ferrero   \n",
      "22      http://en.wikipedia.org/wiki/Dmitry_Tursunov   \n",
      "23      http://en.wikipedia.org/wiki/Guillermo_Canas   \n",
      "24    http://en.wikipedia.org/wiki/Juan_Ignacio_Chela  \n",
      "    Rank               Name     Country  Pts Singles Record (Career)  \\\n",
      "38    37    Olivier Rochus     Belgium   850                 173-180   \n",
      "39    37      Gilles Simon      France   850                   84-72   \n",
      "40    40    Jonas Bjorkman       Sweden  803                 413-358   \n",
      "41    41     Florian Mayer     Germany   790                   74-71   \n",
      "42    42  Julien Benneteau      France   782                  82-102   \n",
      "..   ...                ...         ...  ...                     ...   \n",
      "95    93   Werner Eschauer      Austria  452                   15-35   \n",
      "96    95    Paul Goldstein         USA   449                  85-115   \n",
      "97    96       Yen-Hsun Lu      Taipei   442                   27-45   \n",
      "98    98  Alessio Di Mauro       Italy   441                     NaN   \n",
      "99   100    Chris Guccione   Australia   439                   28-34   \n",
      "\n",
      "   Winning Percentage Career Earnings  \\\n",
      "38             49.01%        $3178522   \n",
      "39             53.85%        $1283216   \n",
      "40             53.57%       $14386244   \n",
      "41             51.03%        $1313429   \n",
      "42             44.57%        $2099394   \n",
      "..                ...             ...   \n",
      "95             30.00%         $648282   \n",
      "96             42.50%        $1619456   \n",
      "97             37.50%         $648617   \n",
      "98                NaN             NaN   \n",
      "99             45.16%         $557297   \n",
      "\n",
      "                                 Link to Wikipedia  \n",
      "38    http://en.wikipedia.org/wiki/Olivier_Rochus   \n",
      "39       http://en.wikipedia.org/wiki/GillesSimon   \n",
      "40    http://en.wikipedia.org/wiki/Jonas_Bjorkman   \n",
      "41     http://en.wikipedia.org/wiki/Florian_Mayer   \n",
      "42  http://en.wikipedia.org/wiki/Julien_Benneteau   \n",
      "..                                             ...  \n",
      "95   http://en.wikipedia.org/wiki/Werner_Eschauer   \n",
      "96    http://en.wikipedia.org/wiki/Paul_Goldstein   \n",
      "97       http://en.wikipedia.org/wiki/Yen-Hsun_Lu   \n",
      "98  http://en.wikipedia.org/wiki/Alessio_Di Mauro   \n",
      "99    http://en.wikipedia.org/wiki/Chris_Guccione   \n",
      "\n",
      "[62 rows x 8 columns]\n"
     ]
    }
   ],
   "source": [
    "#3\n",
    "K = 20\n",
    "print(df.iloc[K:K+5])\n",
    "print(df.tail(3*K+2))"
   ]
  },
  {
   "cell_type": "code",
   "execution_count": 32,
   "id": "67f1b4ae",
   "metadata": {},
   "outputs": [
    {
     "name": "stdout",
     "output_type": "stream",
     "text": [
      "Поля\n",
      "Назва:  Rank \n",
      "Тип:  int64\n",
      "Назва:  Name \n",
      "Тип:  object\n",
      "Назва:  Country \n",
      "Тип:  object\n",
      "Назва:  Pts \n",
      "Тип:  int64\n",
      "Назва:  Singles Record (Career) \n",
      "Тип:  object\n",
      "Назва:  Winning Percentage \n",
      "Тип:  object\n",
      "Назва:  Career Earnings \n",
      "Тип:  object\n",
      "Назва:  Link to Wikipedia \n",
      "Тип:  object\n"
     ]
    }
   ],
   "source": [
    "#4\n",
    "print(\"Поля\")\n",
    "for column in df.columns:\n",
    "    print(\"Назва: \", column,\"\\nТип: \", df[column].dtype)\n"
   ]
  },
  {
   "cell_type": "code",
   "execution_count": 33,
   "id": "9fccd76c",
   "metadata": {},
   "outputs": [
    {
     "name": "stdout",
     "output_type": "stream",
     "text": [
      "Було: \n",
      "   Rank            Name       Country   Pts Singles Record (Career)  \\\n",
      "0     1  Roger Federer   Switzerland   7290                 594-143   \n",
      "1     2   Rafael Nadal         Spain   4875                  309-73   \n",
      "2     3   Andy Roddick           USA   2980                 436-136   \n",
      "\n",
      "  Winning Percentage Career Earnings  \\\n",
      "0             80.60%       $41721169   \n",
      "1             80.89%       $19470198   \n",
      "2             76.22%       $14069938   \n",
      "\n",
      "                             Link to Wikipedia  \n",
      "0  http://en.wikipedia.org/wiki/Roger_Federer   \n",
      "1   http://en.wikipedia.org/wiki/Rafael_Nadal   \n",
      "2   http://en.wikipedia.org/wiki/Andy_Roddick   \n",
      "Стало: \n",
      "   Rank               Name      Country   Pts Singles Record (Career)  \\\n",
      "0     1      Roger Federer  Switzerland  7290                 594-143   \n",
      "1     2       Rafael Nadal        Spain  4875                  309-73   \n",
      "2     3       Andy Roddick          USA  2980                 436-136   \n",
      "3     4  Nikolay Davydenko       Russia  2825                 303-202   \n",
      "4     5  Fernando Gonzalez        Chile  2755                 294-160   \n",
      "5     6      Tommy Robredo        Spain  2645                 320-194   \n",
      "6     7     Novak Djokovic       Serbia  2540                  158-59   \n",
      "7     8      Ivan Ljubicic      Croatia  2270                 340-223   \n",
      "8     9        James Blake          USA  2150                 275-165   \n",
      "9    10         Tommy Haas      Germany  2135                 416-224   \n",
      "\n",
      "  Winning Percentage Career Earnings  \\\n",
      "0             80.60%       $41721169   \n",
      "1             80.89%       $19470198   \n",
      "2             76.22%       $14069938   \n",
      "3             60.00%        $8637353   \n",
      "4             64.76%        $6742996   \n",
      "5             62.26%        $6538755   \n",
      "6             72.81%        $8035331   \n",
      "7             60.39%        $7090571   \n",
      "8             62.50%        $5848841   \n",
      "9             65.00%        $8753953   \n",
      "\n",
      "                                Link to Wikipedia  \n",
      "0      http://en.wikipedia.org/wiki/Roger_Federer  \n",
      "1       http://en.wikipedia.org/wiki/Rafael_Nadal  \n",
      "2       http://en.wikipedia.org/wiki/Andy_Roddick  \n",
      "3  http://en.wikipedia.org/wiki/Nikolay_Davydenko  \n",
      "4  http://en.wikipedia.org/wiki/Fernando_Gonzalez  \n",
      "5      http://en.wikipedia.org/wiki/Tommy_Robredo  \n",
      "6     http://en.wikipedia.org/wiki/Novak_Djokovic  \n",
      "7      http://en.wikipedia.org/wiki/Ivan_Ljubicic  \n",
      "8        http://en.wikipedia.org/wiki/James_Blake  \n",
      "9         http://en.wikipedia.org/wiki/Tommy_Haas  \n"
     ]
    }
   ],
   "source": [
    "#5\n",
    "print(\"Було: \")\n",
    "print(df.head(3))\n",
    "for col in df.select_dtypes(include=[\"object\", \"string\"]).columns:\n",
    "    df[col] = df[col].str.strip().replace(r'\\s+', ' ', regex=True)\n",
    "print(\"Стало: \")\n",
    "print(df.head(10))"
   ]
  },
  {
   "cell_type": "code",
   "execution_count": null,
   "id": "85fc5536",
   "metadata": {},
   "outputs": [
    {
     "name": "stdout",
     "output_type": "stream",
     "text": [
      "Стало: \n",
      "   Winning Percentage    Win   Lose  Career Earnings   Pts\n",
      "0               80.60  594.0  143.0       41721169.0  7290\n",
      "1               80.89  309.0   73.0       19470198.0  4875\n",
      "2               76.22  436.0  136.0       14069938.0  2980\n",
      "3               60.00  303.0  202.0        8637353.0  2825\n",
      "4               64.76  294.0  160.0        6742996.0  2755\n",
      "5               62.26  320.0  194.0        6538755.0  2645\n",
      "6               72.81  158.0   59.0        8035331.0  2540\n",
      "7               60.39  340.0  223.0        7090571.0  2270\n",
      "8               62.50  275.0  165.0        5848841.0  2150\n",
      "9               65.00  416.0  224.0        8753953.0  2135\n"
     ]
    }
   ],
   "source": [
    "#6\n",
    "def clean_numbers(s):\n",
    "    cleaned = re.sub(r'[^0-9\\-\\+,\\.]', '', str(s))\n",
    "    return cleaned\n",
    "# print(\"Було: \")\n",
    "# print(df.head(3))\n",
    "\n",
    "df[\"Winning Percentage\"] = df[\"Winning Percentage\"].apply(clean_numbers)\n",
    "df[\"Career Earnings\"] = df[\"Career Earnings\"].apply(clean_numbers)\n",
    "df[['Win', 'Lose']] = df['Singles Record (Career)'].str.split('-', n=1, expand=True)\n",
    "\n",
    "for col in [\"Winning Percentage\",'Win', 'Lose',\"Career Earnings\",\"Pts\"]:\n",
    "    df[col] = pd.to_numeric(df[col], errors=\"coerce\")\n",
    "print(\"Стало: \")\n",
    "print(df[[\"Winning Percentage\",'Win', 'Lose',\"Career Earnings\",\"Pts\"]].head(10))"
   ]
  },
  {
   "cell_type": "code",
   "execution_count": null,
   "id": "51118b82",
   "metadata": {},
   "outputs": [
    {
     "name": "stdout",
     "output_type": "stream",
     "text": [
      "Рядки з пропущеними даними:\n",
      "    Rank              Name         Country  Pts Singles Record (Career)  \\\n",
      "84    85         Jan Hajek  Czech Republic  487                     NaN   \n",
      "98    98  Alessio Di Mauro           Italy  441                     NaN   \n",
      "\n",
      "    Winning Percentage  Career Earnings  \\\n",
      "84                 NaN              NaN   \n",
      "98                 NaN              NaN   \n",
      "\n",
      "                                    Link to Wikipedia  Win  Lose  \n",
      "84  http://en.wikipedia.org/wiki/Jan_H%C3%A1jek_%2...  NaN   NaN  \n",
      "98      http://en.wikipedia.org/wiki/Alessio_Di Mauro  NaN   NaN  \n"
     ]
    }
   ],
   "source": [
    "#7\n",
    "print(\"Рядки з пропущеними даними:\")\n",
    "print(df[df.isnull().any(axis=1)])\n",
    "df = df.dropna()\n",
    "print(\"Кількість пропусків після очищення:\")\n",
    "print(df.isnull().sum())"
   ]
  },
  {
   "cell_type": "code",
   "execution_count": 42,
   "id": "f9299321",
   "metadata": {},
   "outputs": [
    {
     "name": "stdout",
     "output_type": "stream",
     "text": [
      "   Total    Win   Lose\n",
      "0  737.0  594.0  143.0\n",
      "1  382.0  309.0   73.0\n",
      "2  572.0  436.0  136.0\n",
      "3  505.0  303.0  202.0\n",
      "4  454.0  294.0  160.0\n"
     ]
    }
   ],
   "source": [
    "#8\n",
    "df[\"Total\"] = df[\"Win\"] + df[\"Lose\"]\n",
    "print(df[[\"Total\",\"Win\",\"Lose\"]].head(5))\n"
   ]
  },
  {
   "cell_type": "code",
   "execution_count": 49,
   "id": "60bee589",
   "metadata": {},
   "outputs": [
    {
     "name": "stdout",
     "output_type": "stream",
     "text": [
      "Було: \n",
      "Index(['Rank', 'Name', 'Country', 'Pts', 'Singles Record (Career)',\n",
      "       'Winning Percentage', 'Career Earnings', 'Link to Wikipedia', 'Win',\n",
      "       'Lose', 'Total'],\n",
      "      dtype='object')\n",
      "Стало: \n",
      "Index(['Rank', 'Name', 'Country', 'Pts', 'Winning Percentage',\n",
      "       'Career Earnings', 'Win', 'Lose', 'Total'],\n",
      "      dtype='object')\n"
     ]
    }
   ],
   "source": [
    "#9\n",
    "print(\"Було: \")\n",
    "print(df.columns)\n",
    "df.drop(['Singles Record (Career)', 'Link to Wikipedia'], axis=1,inplace=True)\n",
    "print(\"Стало: \")\n",
    "print(df.columns)\n",
    "\n"
   ]
  }
 ],
 "metadata": {
  "kernelspec": {
   "display_name": "Python 3",
   "language": "python",
   "name": "python3"
  },
  "language_info": {
   "codemirror_mode": {
    "name": "ipython",
    "version": 3
   },
   "file_extension": ".py",
   "mimetype": "text/x-python",
   "name": "python",
   "nbconvert_exporter": "python",
   "pygments_lexer": "ipython3",
   "version": "3.12.10"
  }
 },
 "nbformat": 4,
 "nbformat_minor": 5
}
